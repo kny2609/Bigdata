{
  "nbformat": 4,
  "nbformat_minor": 0,
  "metadata": {
    "colab": {
      "name": "Text_word2vec_test1.ipynb",
      "provenance": [],
      "collapsed_sections": [],
      "authorship_tag": "ABX9TyMlvtkVhpzn9VeZAFvilVSS",
      "include_colab_link": true
    },
    "kernelspec": {
      "name": "python3",
      "display_name": "Python 3"
    }
  },
  "cells": [
    {
      "cell_type": "markdown",
      "metadata": {
        "id": "view-in-github",
        "colab_type": "text"
      },
      "source": [
        "<a href=\"https://colab.research.google.com/github/kny2609/Bigdata/blob/master/Text_word2vec_test1.ipynb\" target=\"_parent\"><img src=\"https://colab.research.google.com/assets/colab-badge.svg\" alt=\"Open In Colab\"/></a>"
      ]
    },
    {
      "cell_type": "code",
      "metadata": {
        "id": "pgBlvJEyNFGe",
        "colab_type": "code",
        "colab": {
          "base_uri": "https://localhost:8080/",
          "height": 107
        },
        "outputId": "87f86fce-2e2e-49ab-9093-5e1eb02ebb57"
      },
      "source": [
        "\"\"\"\n",
        "날짜 : 2020-09-08\n",
        "이름 : 김나연\n",
        "내용 : word2vec 실습하기\n",
        "\"\"\"\n",
        "\n",
        "import nltk\n",
        "from nltk.corpus import movie_reviews\n",
        "from gensim.models.word2vec import Word2Vec\n",
        "\n",
        "nltk.download('movie_reviews')\n",
        "nltk.download('punkt')"
      ],
      "execution_count": null,
      "outputs": [
        {
          "output_type": "stream",
          "text": [
            "[nltk_data] Downloading package movie_reviews to /root/nltk_data...\n",
            "[nltk_data]   Unzipping corpora/movie_reviews.zip.\n",
            "[nltk_data] Downloading package punkt to /root/nltk_data...\n",
            "[nltk_data]   Unzipping tokenizers/punkt.zip.\n"
          ],
          "name": "stdout"
        },
        {
          "output_type": "execute_result",
          "data": {
            "text/plain": [
              "True"
            ]
          },
          "metadata": {
            "tags": []
          },
          "execution_count": 3
        }
      ]
    },
    {
      "cell_type": "code",
      "metadata": {
        "id": "W0XNOC59Nakn",
        "colab_type": "code",
        "colab": {}
      },
      "source": [
        "sentences = [list(s) for s in movie_reviews.sents()]\n",
        "sentences"
      ],
      "execution_count": null,
      "outputs": []
    },
    {
      "cell_type": "code",
      "metadata": {
        "id": "10A4gntROez2",
        "colab_type": "code",
        "colab": {
          "base_uri": "https://localhost:8080/",
          "height": 35
        },
        "outputId": "b87f1dbe-f45c-48ec-fd5e-eb6757ae7866"
      },
      "source": [
        "# word2vec 모델 생성\n",
        "model = Word2Vec(sentences)\n",
        "model"
      ],
      "execution_count": null,
      "outputs": [
        {
          "output_type": "execute_result",
          "data": {
            "text/plain": [
              "<gensim.models.word2vec.Word2Vec at 0x7f4201334390>"
            ]
          },
          "metadata": {
            "tags": []
          },
          "execution_count": 5
        }
      ]
    },
    {
      "cell_type": "code",
      "metadata": {
        "id": "PnyLHO_ZOwsL",
        "colab_type": "code",
        "colab": {
          "base_uri": "https://localhost:8080/",
          "height": 217
        },
        "outputId": "cad926e1-7fcc-4fcd-a72e-32e96ba4cac1"
      },
      "source": [
        "# 단어 연관성 확인\n",
        "v1 = model.wv.similarity('actor', 'actress')\n",
        "v2 = model.wv.similarity('he', 'she')\n",
        "v3 = model.most_similar('father')\n",
        "v4 = model.most_similar(positive=['woman', 'king'],\n",
        "                        negative=['man'])\n",
        "\n",
        "print('v1 : ', v1)\n",
        "print('v2 : ', v2)\n",
        "print('v3 : ', v3)\n",
        "print('v4 : ', v4)"
      ],
      "execution_count": null,
      "outputs": [
        {
          "output_type": "stream",
          "text": [
            "v1 :  0.8661293\n",
            "v2 :  0.8662796\n",
            "v3 :  [('mother', 0.9692806601524353), ('wife', 0.9539294838905334), ('daughter', 0.9511088728904724), ('son', 0.946029543876648), ('husband', 0.9256913661956787), ('brother', 0.9253450632095337), ('girlfriend', 0.903645932674408), ('sister', 0.9006065726280212), ('boss', 0.8858148455619812), ('boyfriend', 0.8787977695465088)]\n",
            "v4 :  [('steve', 0.8770163059234619), ('williams', 0.8743712306022644), ('captain', 0.8689135313034058), ('jane', 0.8667999505996704), ('jackson', 0.8590595722198486), ('edward', 0.8565272092819214), ('george', 0.8522500991821289), ('queen', 0.8517816066741943), ('william', 0.851438045501709), ('goodman', 0.851233720779419)]\n"
          ],
          "name": "stdout"
        },
        {
          "output_type": "stream",
          "text": [
            "/usr/local/lib/python3.6/dist-packages/gensim/matutils.py:737: FutureWarning: Conversion of the second argument of issubdtype from `int` to `np.signedinteger` is deprecated. In future, it will be treated as `np.int64 == np.dtype(int).type`.\n",
            "  if np.issubdtype(vec.dtype, np.int):\n",
            "/usr/local/lib/python3.6/dist-packages/ipykernel_launcher.py:4: DeprecationWarning: Call to deprecated `most_similar` (Method will be removed in 4.0.0, use self.wv.most_similar() instead).\n",
            "  after removing the cwd from sys.path.\n",
            "/usr/local/lib/python3.6/dist-packages/ipykernel_launcher.py:6: DeprecationWarning: Call to deprecated `most_similar` (Method will be removed in 4.0.0, use self.wv.most_similar() instead).\n",
            "  \n"
          ],
          "name": "stderr"
        }
      ]
    }
  ]
}