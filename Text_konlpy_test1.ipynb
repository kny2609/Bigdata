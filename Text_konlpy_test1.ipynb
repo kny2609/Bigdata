{
  "nbformat": 4,
  "nbformat_minor": 0,
  "metadata": {
    "colab": {
      "name": "Text_konlpy_test1.ipynb",
      "provenance": [],
      "collapsed_sections": [],
      "authorship_tag": "ABX9TyPQTA9v9RHkztjhmAijCpLQ",
      "include_colab_link": true
    },
    "kernelspec": {
      "name": "python3",
      "display_name": "Python 3"
    },
    "accelerator": "GPU"
  },
  "cells": [
    {
      "cell_type": "markdown",
      "metadata": {
        "id": "view-in-github",
        "colab_type": "text"
      },
      "source": [
        "<a href=\"https://colab.research.google.com/github/kny2609/Bigdata/blob/master/Text_konlpy_test1.ipynb\" target=\"_parent\"><img src=\"https://colab.research.google.com/assets/colab-badge.svg\" alt=\"Open In Colab\"/></a>"
      ]
    },
    {
      "cell_type": "code",
      "metadata": {
        "id": "sQw38QSLKDj-",
        "colab_type": "code",
        "colab": {}
      },
      "source": [
        "pip install konlpy"
      ],
      "execution_count": null,
      "outputs": []
    },
    {
      "cell_type": "code",
      "metadata": {
        "id": "3u0J9n5iJWIm",
        "colab_type": "code",
        "colab": {}
      },
      "source": [
        "\"\"\"\n",
        "날짜 : 2020-09-08\n",
        "이름 : 김나연\n",
        "내용 : konlpy 패키지 형태소 분석 실습하기\n",
        "\"\"\"\n",
        "\n",
        "from konlpy.tag import Okt\n",
        "from konlpy.tag import Kkma"
      ],
      "execution_count": null,
      "outputs": []
    },
    {
      "cell_type": "code",
      "metadata": {
        "id": "BNFK7Zc7KArk",
        "colab_type": "code",
        "colab": {}
      },
      "source": [
        "# 한글 형태소 분석기 생성\n",
        "okt = Okt() # Twitter 분석기 Open Korean Text\n",
        "kkma = Kkma()"
      ],
      "execution_count": null,
      "outputs": []
    },
    {
      "cell_type": "code",
      "metadata": {
        "id": "HiNR0WxEKfdI",
        "colab_type": "code",
        "colab": {
          "base_uri": "https://localhost:8080/",
          "height": 125
        },
        "outputId": "9a8e09fe-0d84-4040-9d7d-84a69555e551"
      },
      "source": [
        "# 형태소 분석 tlfgod\n",
        "oktResult = okt.pos('나는 보리밥을 먹었다.')\n",
        "oktResult"
      ],
      "execution_count": null,
      "outputs": [
        {
          "output_type": "execute_result",
          "data": {
            "text/plain": [
              "[('나', 'Noun'),\n",
              " ('는', 'Josa'),\n",
              " ('보리밥', 'Noun'),\n",
              " ('을', 'Josa'),\n",
              " ('먹었다', 'Verb'),\n",
              " ('.', 'Punctuation')]"
            ]
          },
          "metadata": {
            "tags": []
          },
          "execution_count": 10
        }
      ]
    },
    {
      "cell_type": "code",
      "metadata": {
        "id": "lZvIoKr7K_8Q",
        "colab_type": "code",
        "colab": {
          "base_uri": "https://localhost:8080/",
          "height": 161
        },
        "outputId": "a01cd39f-eee5-48fa-bb45-0a43f83c950e"
      },
      "source": [
        "kkamResult = kkma.pos('나는 보리밥을 먹었다.')\n",
        "kkamResult"
      ],
      "execution_count": null,
      "outputs": [
        {
          "output_type": "execute_result",
          "data": {
            "text/plain": [
              "[('나', 'NP'),\n",
              " ('는', 'JX'),\n",
              " ('보리밥', 'NNG'),\n",
              " ('을', 'JKO'),\n",
              " ('먹', 'VV'),\n",
              " ('었', 'EPT'),\n",
              " ('다', 'EFN'),\n",
              " ('.', 'SF')]"
            ]
          },
          "metadata": {
            "tags": []
          },
          "execution_count": 9
        }
      ]
    },
    {
      "cell_type": "code",
      "metadata": {
        "id": "sDyAtJIkLYnn",
        "colab_type": "code",
        "colab": {
          "base_uri": "https://localhost:8080/",
          "height": 269
        },
        "outputId": "e2fe10a2-c4e2-4707-a973-1106e9c00bac"
      },
      "source": [
        "result = okt.pos('흠...포스터보고 초딩영화줄....오버연기조차 가볍지 않구나 ㅋㅋ', norm=True, stem=True)\n",
        "result"
      ],
      "execution_count": null,
      "outputs": [
        {
          "output_type": "execute_result",
          "data": {
            "text/plain": [
              "[('흠', 'Noun'),\n",
              " ('...', 'Punctuation'),\n",
              " ('포스터', 'Noun'),\n",
              " ('보고', 'Noun'),\n",
              " ('초딩', 'Noun'),\n",
              " ('영화', 'Noun'),\n",
              " ('줄', 'Noun'),\n",
              " ('....', 'Punctuation'),\n",
              " ('오버', 'Noun'),\n",
              " ('연기', 'Noun'),\n",
              " ('조차', 'Josa'),\n",
              " ('가볍다', 'Adjective'),\n",
              " ('않다', 'Verb'),\n",
              " ('ㅋㅋ', 'KoreanParticle')]"
            ]
          },
          "metadata": {
            "tags": []
          },
          "execution_count": 15
        }
      ]
    }
  ]
}