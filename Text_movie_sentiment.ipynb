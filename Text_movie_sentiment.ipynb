{
  "nbformat": 4,
  "nbformat_minor": 0,
  "metadata": {
    "colab": {
      "name": "Text_movie_sentiment.ipynb",
      "provenance": [],
      "collapsed_sections": [],
      "authorship_tag": "ABX9TyPwlFrvQmhkTg0JN/drcDwP",
      "include_colab_link": true
    },
    "kernelspec": {
      "name": "python3",
      "display_name": "Python 3"
    },
    "accelerator": "GPU"
  },
  "cells": [
    {
      "cell_type": "markdown",
      "metadata": {
        "id": "view-in-github",
        "colab_type": "text"
      },
      "source": [
        "<a href=\"https://colab.research.google.com/github/kny2609/Bigdata/blob/master/Text_movie_sentiment.ipynb\" target=\"_parent\"><img src=\"https://colab.research.google.com/assets/colab-badge.svg\" alt=\"Open In Colab\"/></a>"
      ]
    },
    {
      "cell_type": "code",
      "metadata": {
        "id": "X9HnJ8JWdXWV",
        "colab_type": "code",
        "colab": {
          "base_uri": "https://localhost:8080/",
          "height": 127
        },
        "outputId": "c64c2865-61b6-43a4-e931-ac7df2b081a3"
      },
      "source": [
        "# 구글 드라이브 연동\n",
        "from google.colab import drive\n",
        "drive.mount('/content/drive')"
      ],
      "execution_count": 3,
      "outputs": [
        {
          "output_type": "stream",
          "text": [
            "Go to this URL in a browser: https://accounts.google.com/o/oauth2/auth?client_id=947318989803-6bn6qk8qdgf4n4g3pfee6491hc0brc4i.apps.googleusercontent.com&redirect_uri=urn%3aietf%3awg%3aoauth%3a2.0%3aoob&scope=email%20https%3a%2f%2fwww.googleapis.com%2fauth%2fdocs.test%20https%3a%2f%2fwww.googleapis.com%2fauth%2fdrive%20https%3a%2f%2fwww.googleapis.com%2fauth%2fdrive.photos.readonly%20https%3a%2f%2fwww.googleapis.com%2fauth%2fpeopleapi.readonly&response_type=code\n",
            "\n",
            "Enter your authorization code:\n",
            "··········\n",
            "Mounted at /content/drive\n"
          ],
          "name": "stdout"
        }
      ]
    },
    {
      "cell_type": "code",
      "metadata": {
        "id": "iklA2ZJub8yi",
        "colab_type": "code",
        "colab": {}
      },
      "source": [
        "\"\"\"\n",
        "날짜 : 2020-09-08\n",
        "이름 : 김나연\n",
        "내용 : 영화 리뷰 감성 분석하기\n",
        "\"\"\""
      ],
      "execution_count": null,
      "outputs": []
    },
    {
      "cell_type": "code",
      "metadata": {
        "id": "kCxlFrMUcX81",
        "colab_type": "code",
        "colab": {}
      },
      "source": [
        "import codecs\n",
        "import numpy as np\n",
        "from tensorflow.keras.preprocessing import sequence\n",
        "from tensorflow.keras.preprocessing.text import Tokenizer\n",
        "from tensorflow.keras.preprocessing.sequence import pad_sequences\n",
        "from tensorflow.keras.models import Sequential\n",
        "from tensorflow.keras.layers import Dense, Embedding\n",
        "from tensorflow.keras.layers import LSTM"
      ],
      "execution_count": 4,
      "outputs": []
    },
    {
      "cell_type": "code",
      "metadata": {
        "id": "3CreOWQodQaT",
        "colab_type": "code",
        "colab": {}
      },
      "source": [
        "# 파일 로드 함수 정의\n",
        "def load_data(file):\n",
        "  result = []\n",
        "  \n",
        "  with open(file, 'r', encoding='utf-8') as f:\n",
        "    lines = f.read().splitlines()\n",
        "\n",
        "    for line in lines:\n",
        "      data = line.split('\\t')\n",
        "      result.append(data)\n",
        "\n",
        "  result = result[1:] # header 정보 제외\n",
        "  return result\n",
        "\n",
        "# 데이터셋 생성 함수 정의\n",
        "def make_dataset(train_data, test_data):\n",
        "  # 학습용\n",
        "  train_x = []\n",
        "  train_y = []\n",
        "\n",
        "  for i in range(len(train_data)):\n",
        "    train_x.append(train_data[i][1])\n",
        "    train_y.append(int(train_data[i][2]))\n",
        "\n",
        "  # 테스트용\n",
        "  test_x = []\n",
        "  test_y = []\n",
        "\n",
        "  for i in range(len(test_data)):\n",
        "    test_x.append(test_data[i][1])\n",
        "    test_y.append(int(test_data[i][2]))\n",
        "\n",
        "  # 최대 5000개의 단어를 갖는 단어사전 생성\n",
        "  tokenizer = Tokenizer(num_words=5000)\n",
        "  tokenizer.fit_on_texts(train_x)\n",
        "\n",
        "  # BOW 표기\n",
        "  token_train_x = tokenizer.texts_to_sequences(train_x)\n",
        "  token_test_x = tokenizer.texts_to_sequences(test_x)\n",
        "\n",
        "  return (token_train_x, train_y), (token_test_x, test_y)"
      ],
      "execution_count": 5,
      "outputs": []
    },
    {
      "cell_type": "code",
      "metadata": {
        "id": "ra1vh7FDkOfi",
        "colab_type": "code",
        "colab": {
          "base_uri": "https://localhost:8080/",
          "height": 35
        },
        "outputId": "213c8546-164b-4411-fceb-49f5aa6ff3f2"
      },
      "source": [
        "# 데이터 파일 로드\n",
        "train_data = load_data('/content/drive/My Drive/Tensorflow_works/data/ratings_train.txt')\n",
        "test_data = load_data('/content/drive/My Drive/Tensorflow_works/data/ratings_test.txt')\n",
        "train_data[0]"
      ],
      "execution_count": 7,
      "outputs": [
        {
          "output_type": "execute_result",
          "data": {
            "text/plain": [
              "['9976970', '아 더빙.. 진짜 짜증나네요 목소리', '0']"
            ]
          },
          "metadata": {
            "tags": []
          },
          "execution_count": 7
        }
      ]
    },
    {
      "cell_type": "code",
      "metadata": {
        "id": "hLYJtcvKkoOa",
        "colab_type": "code",
        "colab": {}
      },
      "source": [
        "# 데이터셋 생성\n",
        "(train_x, train_y), (test_x, test_y) = make_dataset(train_data, test_data)"
      ],
      "execution_count": 15,
      "outputs": []
    },
    {
      "cell_type": "code",
      "metadata": {
        "id": "L9_a2wKhkouT",
        "colab_type": "code",
        "colab": {
          "base_uri": "https://localhost:8080/",
          "height": 89
        },
        "outputId": "82718306-4639-4c05-e25b-92b0602e92c8"
      },
      "source": [
        "# 데이터셋 확인\n",
        "print(train_x[0], train_y[0])\n",
        "print(train_x[1], train_y[1])\n",
        "print(test_x[0], test_y[0])\n",
        "print(test_x[49999], test_y[49999])"
      ],
      "execution_count": 16,
      "outputs": [
        {
          "output_type": "stream",
          "text": [
            "[23, 936, 4, 1097] 0\n",
            "[602] 1\n",
            "[639, 49] 1\n",
            "[56, 1376] 0\n"
          ],
          "name": "stdout"
        }
      ]
    },
    {
      "cell_type": "code",
      "metadata": {
        "id": "EuThh0VKlsCe",
        "colab_type": "code",
        "colab": {
          "base_uri": "https://localhost:8080/",
          "height": 197
        },
        "outputId": "0ace2c4f-6585-4f0c-929e-61b6bfd596b0"
      },
      "source": [
        "# 데이터 전처리\n",
        "train_x = sequence.pad_sequences(train_x, maxlen=100)\n",
        "test_x = sequence.pad_sequences(test_x, maxlen=100)\n",
        "\n",
        "train_y = np.array(train_y)\n",
        "test_y = np.array(test_y)\n",
        "\n",
        "train_x[0]"
      ],
      "execution_count": 17,
      "outputs": [
        {
          "output_type": "execute_result",
          "data": {
            "text/plain": [
              "array([   0,    0,    0,    0,    0,    0,    0,    0,    0,    0,    0,\n",
              "          0,    0,    0,    0,    0,    0,    0,    0,    0,    0,    0,\n",
              "          0,    0,    0,    0,    0,    0,    0,    0,    0,    0,    0,\n",
              "          0,    0,    0,    0,    0,    0,    0,    0,    0,    0,    0,\n",
              "          0,    0,    0,    0,    0,    0,    0,    0,    0,    0,    0,\n",
              "          0,    0,    0,    0,    0,    0,    0,    0,    0,    0,    0,\n",
              "          0,    0,    0,    0,    0,    0,    0,    0,    0,    0,    0,\n",
              "          0,    0,    0,    0,    0,    0,    0,    0,    0,    0,    0,\n",
              "          0,    0,    0,    0,    0,    0,    0,    0,   23,  936,    4,\n",
              "       1097], dtype=int32)"
            ]
          },
          "metadata": {
            "tags": []
          },
          "execution_count": 17
        }
      ]
    },
    {
      "cell_type": "code",
      "metadata": {
        "id": "qdRRu-OgnGWw",
        "colab_type": "code",
        "colab": {
          "base_uri": "https://localhost:8080/",
          "height": 269
        },
        "outputId": "6bfdccf4-4b1f-499e-b812-64119186ef9c"
      },
      "source": [
        "# 모델 구성\n",
        "model = Sequential()\n",
        "model.add(Embedding(5000, 128))\n",
        "model.add(LSTM(128, dropout=0.2))\n",
        "model.add(Dense(1, activation='sigmoid'))\n",
        "\n",
        "model.summary()"
      ],
      "execution_count": 19,
      "outputs": [
        {
          "output_type": "stream",
          "text": [
            "Model: \"sequential_1\"\n",
            "_________________________________________________________________\n",
            "Layer (type)                 Output Shape              Param #   \n",
            "=================================================================\n",
            "embedding_1 (Embedding)      (None, None, 128)         640000    \n",
            "_________________________________________________________________\n",
            "lstm_1 (LSTM)                (None, 128)               131584    \n",
            "_________________________________________________________________\n",
            "dense_1 (Dense)              (None, 1)                 129       \n",
            "=================================================================\n",
            "Total params: 771,713\n",
            "Trainable params: 771,713\n",
            "Non-trainable params: 0\n",
            "_________________________________________________________________\n"
          ],
          "name": "stdout"
        }
      ]
    },
    {
      "cell_type": "code",
      "metadata": {
        "id": "E_VGOu_3m43x",
        "colab_type": "code",
        "colab": {}
      },
      "source": [
        "# 모델 설정\n",
        "model.compile(optimizer='adam',\n",
        "              loss='binary_crossentropy',\n",
        "              metrics=['acc'])"
      ],
      "execution_count": 20,
      "outputs": []
    },
    {
      "cell_type": "code",
      "metadata": {
        "id": "jPbZcxNIn2ZM",
        "colab_type": "code",
        "colab": {
          "base_uri": "https://localhost:8080/",
          "height": 395
        },
        "outputId": "14e765fa-86a0-49ee-f5a0-a24966b2ec92"
      },
      "source": [
        "# 모델 학습\n",
        "model.fit(train_x,\n",
        "          train_y,\n",
        "          batch_size = 128,\n",
        "          epochs = 10)"
      ],
      "execution_count": 21,
      "outputs": [
        {
          "output_type": "stream",
          "text": [
            "Epoch 1/10\n",
            "1172/1172 [==============================] - 50s 43ms/step - loss: 0.4508 - acc: 0.7672\n",
            "Epoch 2/10\n",
            "1172/1172 [==============================] - 49s 42ms/step - loss: 0.4041 - acc: 0.7934\n",
            "Epoch 3/10\n",
            "1172/1172 [==============================] - 49s 42ms/step - loss: 0.3872 - acc: 0.8007\n",
            "Epoch 4/10\n",
            "1172/1172 [==============================] - 50s 42ms/step - loss: 0.3735 - acc: 0.8062\n",
            "Epoch 5/10\n",
            "1172/1172 [==============================] - 49s 42ms/step - loss: 0.3606 - acc: 0.8133\n",
            "Epoch 6/10\n",
            "1172/1172 [==============================] - 50s 43ms/step - loss: 0.3483 - acc: 0.8187\n",
            "Epoch 7/10\n",
            "1172/1172 [==============================] - 50s 42ms/step - loss: 0.3348 - acc: 0.8252\n",
            "Epoch 8/10\n",
            "1172/1172 [==============================] - 49s 42ms/step - loss: 0.3215 - acc: 0.8321\n",
            "Epoch 9/10\n",
            "1172/1172 [==============================] - 49s 41ms/step - loss: 0.3073 - acc: 0.8388\n",
            "Epoch 10/10\n",
            "1172/1172 [==============================] - 48s 41ms/step - loss: 0.2947 - acc: 0.8441\n"
          ],
          "name": "stdout"
        },
        {
          "output_type": "execute_result",
          "data": {
            "text/plain": [
              "<tensorflow.python.keras.callbacks.History at 0x7f55cc13e5c0>"
            ]
          },
          "metadata": {
            "tags": []
          },
          "execution_count": 21
        }
      ]
    },
    {
      "cell_type": "code",
      "metadata": {
        "id": "EgSOHceMoB7W",
        "colab_type": "code",
        "colab": {
          "base_uri": "https://localhost:8080/",
          "height": 53
        },
        "outputId": "fb24feb0-589d-4c76-efc9-4f1f73ef1064"
      },
      "source": [
        "# 모델 성능확인\n",
        "result = model.evaluate(test_x, test_y, batch_size=128)\n",
        "result"
      ],
      "execution_count": 22,
      "outputs": [
        {
          "output_type": "stream",
          "text": [
            "391/391 [==============================] - 5s 13ms/step - loss: 0.5407 - acc: 0.7700\n"
          ],
          "name": "stdout"
        },
        {
          "output_type": "execute_result",
          "data": {
            "text/plain": [
              "[0.5406533479690552, 0.7699599862098694]"
            ]
          },
          "metadata": {
            "tags": []
          },
          "execution_count": 22
        }
      ]
    },
    {
      "cell_type": "code",
      "metadata": {
        "id": "p1sv2ZNyoBrH",
        "colab_type": "code",
        "colab": {
          "base_uri": "https://localhost:8080/",
          "height": 143
        },
        "outputId": "59b165f9-5621-41de-86f8-0fa165d1e525"
      },
      "source": [
        "# 모델 저장\n",
        "model.save('/content/drive/My Drive/Tensorflow_works/model/review1.model')"
      ],
      "execution_count": 23,
      "outputs": [
        {
          "output_type": "stream",
          "text": [
            "WARNING:tensorflow:From /usr/local/lib/python3.6/dist-packages/tensorflow/python/training/tracking/tracking.py:111: Model.state_updates (from tensorflow.python.keras.engine.training) is deprecated and will be removed in a future version.\n",
            "Instructions for updating:\n",
            "This property should not be used in TensorFlow 2.0, as updates are applied automatically.\n",
            "WARNING:tensorflow:From /usr/local/lib/python3.6/dist-packages/tensorflow/python/training/tracking/tracking.py:111: Layer.updates (from tensorflow.python.keras.engine.base_layer) is deprecated and will be removed in a future version.\n",
            "Instructions for updating:\n",
            "This property should not be used in TensorFlow 2.0, as updates are applied automatically.\n",
            "INFO:tensorflow:Assets written to: /content/drive/My Drive/Tensorflow_works/model/review1.model/assets\n"
          ],
          "name": "stdout"
        }
      ]
    }
  ]
}