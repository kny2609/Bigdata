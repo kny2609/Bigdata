{
  "nbformat": 4,
  "nbformat_minor": 0,
  "metadata": {
    "colab": {
      "name": "Text_word2vec_test2.ipynb",
      "provenance": [],
      "collapsed_sections": [],
      "authorship_tag": "ABX9TyNn7cBuHcy2Rgmc5p4n9Y/A",
      "include_colab_link": true
    },
    "kernelspec": {
      "name": "python3",
      "display_name": "Python 3"
    },
    "accelerator": "GPU"
  },
  "cells": [
    {
      "cell_type": "markdown",
      "metadata": {
        "id": "view-in-github",
        "colab_type": "text"
      },
      "source": [
        "<a href=\"https://colab.research.google.com/github/kny2609/Bigdata/blob/master/Text_word2vec_test2.ipynb\" target=\"_parent\"><img src=\"https://colab.research.google.com/assets/colab-badge.svg\" alt=\"Open In Colab\"/></a>"
      ]
    },
    {
      "cell_type": "code",
      "metadata": {
        "id": "nkKeY2D6Uu1I",
        "colab_type": "code",
        "colab": {}
      },
      "source": [
        "pip install konlpy"
      ],
      "execution_count": null,
      "outputs": []
    },
    {
      "cell_type": "code",
      "metadata": {
        "id": "6tXQ78R_VDhw",
        "colab_type": "code",
        "colab": {
          "base_uri": "https://localhost:8080/",
          "height": 127
        },
        "outputId": "b4dd79f9-d6e1-499f-a8c0-29a8ac6cb150"
      },
      "source": [
        "# 구글 드라이브 연동\n",
        "from google.colab import drive\n",
        "drive.mount('/content/drive')"
      ],
      "execution_count": 3,
      "outputs": [
        {
          "output_type": "stream",
          "text": [
            "Go to this URL in a browser: https://accounts.google.com/o/oauth2/auth?client_id=947318989803-6bn6qk8qdgf4n4g3pfee6491hc0brc4i.apps.googleusercontent.com&redirect_uri=urn%3aietf%3awg%3aoauth%3a2.0%3aoob&scope=email%20https%3a%2f%2fwww.googleapis.com%2fauth%2fdocs.test%20https%3a%2f%2fwww.googleapis.com%2fauth%2fdrive%20https%3a%2f%2fwww.googleapis.com%2fauth%2fdrive.photos.readonly%20https%3a%2f%2fwww.googleapis.com%2fauth%2fpeopleapi.readonly&response_type=code\n",
            "\n",
            "Enter your authorization code:\n",
            "··········\n",
            "Mounted at /content/drive\n"
          ],
          "name": "stdout"
        }
      ]
    },
    {
      "cell_type": "code",
      "metadata": {
        "id": "0hfHJgLjUSvg",
        "colab_type": "code",
        "colab": {}
      },
      "source": [
        "\"\"\"\n",
        "날짜 : 2020-09-08\n",
        "이름 : 김나연\n",
        "내용 : 한글 word2vec 실습하기\n",
        "\"\"\"\n",
        "import codecs\n",
        "from konlpy.tag import Okt\n",
        "from gensim.models import word2vec"
      ],
      "execution_count": 4,
      "outputs": []
    },
    {
      "cell_type": "code",
      "metadata": {
        "id": "YvfuX__uU6KJ",
        "colab_type": "code",
        "colab": {}
      },
      "source": [
        "# 데이터셋 로드\n",
        "f = codecs.open('/content/drive/My Drive/Tensorflow_works/data/ratings_train.txt', mode='r', encoding='utf-8')\n",
        "lines = f.read().splitlines()\n",
        "f.close()"
      ],
      "execution_count": 5,
      "outputs": []
    },
    {
      "cell_type": "code",
      "metadata": {
        "id": "EIYu8DveVo27",
        "colab_type": "code",
        "colab": {
          "base_uri": "https://localhost:8080/",
          "height": 35
        },
        "outputId": "0ac592a2-773a-49ce-8ae4-ea56d854eb5c"
      },
      "source": [
        "# 데이터 확인\n",
        "len(lines)"
      ],
      "execution_count": 6,
      "outputs": [
        {
          "output_type": "execute_result",
          "data": {
            "text/plain": [
              "150001"
            ]
          },
          "metadata": {
            "tags": []
          },
          "execution_count": 6
        }
      ]
    },
    {
      "cell_type": "code",
      "metadata": {
        "id": "P6OqHAwpVpBq",
        "colab_type": "code",
        "colab": {
          "base_uri": "https://localhost:8080/",
          "height": 71
        },
        "outputId": "2d943f3b-e08b-49cb-ab97-6618794954b1"
      },
      "source": [
        "# 데이터 전처리\n",
        "ratings_train = []\n",
        "\n",
        "for line in lines:\n",
        "  data = line.split('\\t')\n",
        "\n",
        "  ratings_train.append(data)\n",
        "\n",
        "# header 정보 행 제거\n",
        "ratings_train = ratings_train[1:]\n",
        "\n",
        "docs = []\n",
        "\n",
        "for line in ratings_train:\n",
        "  docs.append(line[1])\n",
        "\n",
        "print(docs[0])\n",
        "print(docs[1])\n",
        "print(docs[99])"
      ],
      "execution_count": 7,
      "outputs": [
        {
          "output_type": "stream",
          "text": [
            "아 더빙.. 진짜 짜증나네요 목소리\n",
            "흠...포스터보고 초딩영화줄....오버연기조차 가볍지 않구나\n",
            "설정이 재밌고 새로운 에피소드 내에서 메인 스토리도 차차 나오는게 재밌음\n"
          ],
          "name": "stdout"
        }
      ]
    },
    {
      "cell_type": "code",
      "metadata": {
        "id": "ASdZ1KlZXf3E",
        "colab_type": "code",
        "colab": {
          "base_uri": "https://localhost:8080/",
          "height": 197
        },
        "outputId": "b308de03-2d0c-4d11-9d85-7782d02301a1"
      },
      "source": [
        "# 데이터 형태소 분석\n",
        "okt = Okt()\n",
        "\n",
        "results = []\n",
        "\n",
        "for doc in docs:\n",
        "  okt_pos = okt.pos(doc, norm=True, stem=True)\n",
        "\n",
        "  row = []\n",
        "\n",
        "  for word in okt_pos:\n",
        "    row.append(word[0])\n",
        "\n",
        "  results.append(row)\n",
        "\n",
        "print(results)"
      ],
      "execution_count": 8,
      "outputs": [
        {
          "output_type": "stream",
          "text": [
            "IOPub data rate exceeded.\n",
            "The notebook server will temporarily stop sending output\n",
            "to the client in order to avoid crashing it.\n",
            "To change this limit, set the config variable\n",
            "`--NotebookApp.iopub_data_rate_limit`.\n",
            "\n",
            "Current values:\n",
            "NotebookApp.iopub_data_rate_limit=1000000.0 (bytes/sec)\n",
            "NotebookApp.rate_limit_window=3.0 (secs)\n",
            "\n"
          ],
          "name": "stderr"
        }
      ]
    },
    {
      "cell_type": "code",
      "metadata": {
        "id": "j__b7vzoaK-_",
        "colab_type": "code",
        "colab": {
          "base_uri": "https://localhost:8080/",
          "height": 35
        },
        "outputId": "a8e18a95-5883-4645-fcb7-fe50df6cb2e7"
      },
      "source": [
        "# word2vec 모델 생성\n",
        "model = word2vec.Word2Vec(results)\n",
        "model"
      ],
      "execution_count": 9,
      "outputs": [
        {
          "output_type": "execute_result",
          "data": {
            "text/plain": [
              "<gensim.models.word2vec.Word2Vec at 0x7f3c441d2f28>"
            ]
          },
          "metadata": {
            "tags": []
          },
          "execution_count": 9
        }
      ]
    },
    {
      "cell_type": "code",
      "metadata": {
        "id": "GOczjDCvac7g",
        "colab_type": "code",
        "colab": {
          "base_uri": "https://localhost:8080/",
          "height": 109
        },
        "outputId": "cb52c3c6-f1b4-446e-c5b0-557e503b145a"
      },
      "source": [
        "# 단어 연관성 확인\n",
        "rs1 = model.wv.most_similar(positive=['남자', '여배우'],\n",
        "                             negative=['배우'])\n",
        "\n",
        "rs2 = model.wv.most_similar(positive=['정우성', '조인성'])\n",
        "\n",
        "print('rs1 : ', rs1)\n",
        "print('rs2 : ', rs2)"
      ],
      "execution_count": 10,
      "outputs": [
        {
          "output_type": "stream",
          "text": [
            "rs1 :  [('여자', 0.8192563056945801), ('꼬마', 0.7036950588226318), ('여자애', 0.679313063621521), ('아빠', 0.6669906973838806), ('할아버지', 0.6585047245025635), ('몸매', 0.6389716863632202), ('엄마', 0.6329360604286194), ('고양이', 0.630413293838501), ('착하다', 0.6150534152984619), ('남녀', 0.6086451411247253)]\n",
            "rs2 :  [('이보영', 0.9150936603546143), ('박유천', 0.9101905822753906), ('임수정', 0.9099839925765991), ('니콜슨', 0.900324821472168), ('스트립', 0.8932019472122192), ('김혜수', 0.8908803462982178), ('베이컨', 0.8880879878997803), ('전도연', 0.8852183818817139), ('양자경', 0.8803215026855469), ('주상욱', 0.879602313041687)]\n"
          ],
          "name": "stdout"
        },
        {
          "output_type": "stream",
          "text": [
            "/usr/local/lib/python3.6/dist-packages/gensim/matutils.py:737: FutureWarning: Conversion of the second argument of issubdtype from `int` to `np.signedinteger` is deprecated. In future, it will be treated as `np.int64 == np.dtype(int).type`.\n",
            "  if np.issubdtype(vec.dtype, np.int):\n"
          ],
          "name": "stderr"
        }
      ]
    }
  ]
}