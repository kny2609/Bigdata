{
  "nbformat": 4,
  "nbformat_minor": 0,
  "metadata": {
    "colab": {
      "name": "tf06_mnist_test.ipynb",
      "provenance": [],
      "collapsed_sections": [],
      "mount_file_id": "1y91emMmYSeUJ-EMhXuhnBubOPDYeLyqa",
      "authorship_tag": "ABX9TyOFbzQsYhbec6x8fpboZuWj",
      "include_colab_link": true
    },
    "kernelspec": {
      "name": "python3",
      "display_name": "Python 3"
    }
  },
  "cells": [
    {
      "cell_type": "markdown",
      "metadata": {
        "id": "view-in-github",
        "colab_type": "text"
      },
      "source": [
        "<a href=\"https://colab.research.google.com/github/kny2609/Bigdata/blob/master/tf06_mnist_test.ipynb\" target=\"_parent\"><img src=\"https://colab.research.google.com/assets/colab-badge.svg\" alt=\"Open In Colab\"/></a>"
      ]
    },
    {
      "cell_type": "code",
      "metadata": {
        "id": "bX-7dLeMGvzJ",
        "colab_type": "code",
        "colab": {}
      },
      "source": [
        "\"\"\"\n",
        "날짜 : 2020-08-19\n",
        "이름 : 김나연\n",
        "내용 : 딥러닝 mnist 이미지 분류 실습하기\n",
        "\"\"\"\n",
        "\n",
        "import matplotlib.pyplot as plt\n",
        "import numpy as np\n",
        "from tensorflow.keras.datasets.mnist import load_data\n",
        "from tensorflow.keras.utils import to_categorical\n",
        "from tensorflow.keras.models import Sequential\n",
        "from tensorflow.keras.layers import Dense, Flatten\n",
        "from sklearn.model_selection import train_test_split\n",
        "from PIL import Image   # 파이썬 이미지 처리 라이브러리"
      ],
      "execution_count": null,
      "outputs": []
    },
    {
      "cell_type": "code",
      "metadata": {
        "id": "51hwqCMWHs9j",
        "colab_type": "code",
        "colab": {
          "base_uri": "https://localhost:8080/",
          "height": 35
        },
        "outputId": "4a31165d-601f-4d03-a0c0-845049435e52"
      },
      "source": [
        "# 구글드라이브 연동\n",
        "from google.colab import drive\n",
        "drive.mount('/content/drive')"
      ],
      "execution_count": null,
      "outputs": [
        {
          "output_type": "stream",
          "text": [
            "Drive already mounted at /content/drive; to attempt to forcibly remount, call drive.mount(\"/content/drive\", force_remount=True).\n"
          ],
          "name": "stdout"
        }
      ]
    },
    {
      "cell_type": "code",
      "metadata": {
        "id": "KwPuqy1eI-GO",
        "colab_type": "code",
        "colab": {
          "base_uri": "https://localhost:8080/",
          "height": 45
        },
        "outputId": "4749f3c3-ee27-4b41-e943-d9c540c05ce2"
      },
      "source": [
        "# 구글드라이브 이미지 로드하기\n",
        "img1 = Image.open('/content/drive/My Drive/Tensorflow_works/data/mnist_img1.jpg')\n",
        "img2 = Image.open('/content/drive/My Drive/Tensorflow_works/data/mnist_img2.jpg')\n",
        "img3 = Image.open('/content/drive/My Drive/Tensorflow_works/data/mnist_img3.jpg')\n",
        "img4 = Image.open('/content/drive/My Drive/Tensorflow_works/data/mnist_img4.jpg')\n",
        "img5 = Image.open('/content/drive/My Drive/Tensorflow_works/data/mnist_img5.jpg')\n",
        "\n",
        "img1"
      ],
      "execution_count": null,
      "outputs": [
        {
          "output_type": "execute_result",
          "data": {
            "image/png": "[encoded data removed]",
            "text/plain": [
              "<PIL.JpegImagePlugin.JpegImageFile image mode=L size=28x28 at 0x7F407FACCF98>"
            ]
          },
          "metadata": {
            "tags": []
          },
          "execution_count": 77
        }
      ]
    },
    {
      "cell_type": "code",
      "metadata": {
        "id": "_WNH4mIXJMiH",
        "colab_type": "code",
        "colab": {
          "base_uri": "https://localhost:8080/",
          "height": 719
        },
        "outputId": "4e67d651-b7d5-459a-869f-4189d281c2d7"
      },
      "source": [
        "# 이미지 파일의 픽셀값 추출\n",
        "img1_px = np.array(img1)\n",
        "img2_px = np.array(img2)\n",
        "img3_px = np.array(img3)\n",
        "img4_px = np.array(img4)\n",
        "img5_px = np.array(img5)\n",
        "\n",
        "img_arr = np.array([img1_px, img2_px, img3_px, img4_px, img5_px])\n",
        "img_arr = img_arr / 255.0\n",
        "img_arr"
      ],
      "execution_count": null,
      "outputs": [
        {
          "output_type": "execute_result",
          "data": {
            "text/plain": [
              "array([[[0., 0., 0., ..., 0., 0., 0.],\n",
              "        [0., 0., 0., ..., 0., 0., 0.],\n",
              "        [0., 0., 0., ..., 0., 0., 0.],\n",
              "        ...,\n",
              "        [0., 0., 0., ..., 0., 0., 0.],\n",
              "        [0., 0., 0., ..., 0., 0., 0.],\n",
              "        [0., 0., 0., ..., 0., 0., 0.]],\n",
              "\n",
              "       [[0., 0., 0., ..., 0., 0., 0.],\n",
              "        [0., 0., 0., ..., 0., 0., 0.],\n",
              "        [0., 0., 0., ..., 0., 0., 0.],\n",
              "        ...,\n",
              "        [0., 0., 0., ..., 0., 0., 0.],\n",
              "        [0., 0., 0., ..., 0., 0., 0.],\n",
              "        [0., 0., 0., ..., 0., 0., 0.]],\n",
              "\n",
              "       [[0., 0., 0., ..., 0., 0., 0.],\n",
              "        [0., 0., 0., ..., 0., 0., 0.],\n",
              "        [0., 0., 0., ..., 0., 0., 0.],\n",
              "        ...,\n",
              "        [0., 0., 0., ..., 0., 0., 0.],\n",
              "        [0., 0., 0., ..., 0., 0., 0.],\n",
              "        [0., 0., 0., ..., 0., 0., 0.]],\n",
              "\n",
              "       [[0., 0., 0., ..., 0., 0., 0.],\n",
              "        [0., 0., 0., ..., 0., 0., 0.],\n",
              "        [0., 0., 0., ..., 0., 0., 0.],\n",
              "        ...,\n",
              "        [0., 0., 0., ..., 0., 0., 0.],\n",
              "        [0., 0., 0., ..., 0., 0., 0.],\n",
              "        [0., 0., 0., ..., 0., 0., 0.]],\n",
              "\n",
              "       [[0., 0., 0., ..., 0., 0., 0.],\n",
              "        [0., 0., 0., ..., 0., 0., 0.],\n",
              "        [0., 0., 0., ..., 0., 0., 0.],\n",
              "        ...,\n",
              "        [0., 0., 0., ..., 0., 0., 0.],\n",
              "        [0., 0., 0., ..., 0., 0., 0.],\n",
              "        [0., 0., 0., ..., 0., 0., 0.]]])"
            ]
          },
          "metadata": {
            "tags": []
          },
          "execution_count": 78
        }
      ]
    },
    {
      "cell_type": "code",
      "metadata": {
        "id": "A2lVJ7EFKHH_",
        "colab_type": "code",
        "colab": {
          "base_uri": "https://localhost:8080/",
          "height": 71
        },
        "outputId": "8f180f9d-1947-424b-dd27-dadea5e96c1a"
      },
      "source": [
        "# 학습데이터 로드\n",
        "(mnist_train_data, mnist_train_label), (mnist_test_data, mnist_test_label) = load_data()\n",
        "\n",
        "# 데이터 형태 확인\n",
        "print(mnist_train_data.shape, mnist_train_label.shape)\n",
        "print(mnist_test_data.shape, mnist_test_label.shape)\n",
        "print(mnist_train_label)"
      ],
      "execution_count": null,
      "outputs": [
        {
          "output_type": "stream",
          "text": [
            "(60000, 28, 28) (60000,)\n",
            "(10000, 28, 28) (10000,)\n",
            "[5 0 4 ... 5 6 8]\n"
          ],
          "name": "stdout"
        }
      ]
    },
    {
      "cell_type": "code",
      "metadata": {
        "id": "6inrpfjMLG1m",
        "colab_type": "code",
        "colab": {
          "base_uri": "https://localhost:8080/",
          "height": 244
        },
        "outputId": "900ae9bd-ee29-4665-d93d-943a31589cc3"
      },
      "source": [
        "# 데이터 샘플 이미지 출력\n",
        "random_idx = np.random.randint(60000, size=5)\n",
        "print(random_idx)\n",
        "\n",
        "plt.figure(figsize=(5, 5))\n",
        "\n",
        "for i, idx in enumerate(random_idx):\n",
        "  plt.subplot(3, 3, i+1)\n",
        "  plt.xticks([])\n",
        "  plt.yticks([])\n",
        "  label = mnist_train_label[idx]\n",
        "  plt.imshow(mnist_train_data[idx, :])\n",
        "  plt.title('number is %d' %label)"
      ],
      "execution_count": null,
      "outputs": [
        {
          "output_type": "stream",
          "text": [
            "[15376 23068 15891 36430 11487]\n"
          ],
          "name": "stdout"
        },
        {
          "output_type": "display_data",
          "data": {
            "image/png": "[encoded data removed]",
            "text/plain": [
              "<Figure size 360x360 with 5 Axes>"
            ]
          },
          "metadata": {
            "tags": []
          }
        }
      ]
    },
    {
      "cell_type": "code",
      "metadata": {
        "id": "XZYenaHANU7O",
        "colab_type": "code",
        "colab": {
          "base_uri": "https://localhost:8080/",
          "height": 53
        },
        "outputId": "8f03b709-648a-414e-f9bf-c78cfa2d0dbd"
      },
      "source": [
        "# 데이터셋 분할하기\n",
        "train_data, test_data, train_label, test_label = train_test_split(mnist_train_data, mnist_train_label)\n",
        "print('훈련 데이터 : ', train_data.shape)\n",
        "print('검증 데이터 : ', test_data.shape)"
      ],
      "execution_count": null,
      "outputs": [
        {
          "output_type": "stream",
          "text": [
            "훈련 데이터 :  (45000, 28, 28)\n",
            "검증 데이터 :  (15000, 28, 28)\n"
          ],
          "name": "stdout"
        }
      ]
    },
    {
      "cell_type": "code",
      "metadata": {
        "id": "Hr5vYQMvOCRW",
        "colab_type": "code",
        "colab": {}
      },
      "source": [
        "# 모델학습을 위한 데이터 전처리(정규화)\n",
        "train_data = train_data / 255\n",
        "test_data = test_data / 255\n",
        "mnist_test_data = mnist_test_data / 255"
      ],
      "execution_count": null,
      "outputs": []
    },
    {
      "cell_type": "code",
      "metadata": {
        "id": "gQFd5cWDOoTV",
        "colab_type": "code",
        "colab": {}
      },
      "source": [
        "# 각 데이터의 레이블을 범주형(One-hot encoding) 형태로 변환\n",
        "train_label = to_categorical(train_label)\n",
        "test_label = to_categorical(test_label)\n",
        "mnist_test_label = to_categorical(mnist_test_label)"
      ],
      "execution_count": null,
      "outputs": []
    },
    {
      "cell_type": "code",
      "metadata": {
        "id": "zS6ezVhyPGe2",
        "colab_type": "code",
        "colab": {}
      },
      "source": [
        "# 학습모델 구성하기\n",
        "model = Sequential()\n",
        "model.add(Flatten(input_shape=(28, 28)))    # 입력층\n",
        "model.add(Dense(62, activation='relu'))     # 은닉층\n",
        "model.add(Dense(32, activation='relu'))     # 은닉층\n",
        "model.add(Dense(10, activation='softmax'))  # 출력층"
      ],
      "execution_count": null,
      "outputs": []
    },
    {
      "cell_type": "code",
      "metadata": {
        "id": "kLkIdXZXQfzt",
        "colab_type": "code",
        "colab": {}
      },
      "source": [
        "# 학습모델 설정하기\n",
        "model.compile(optimizer='adam', loss='categorical_crossentropy', metrics=['acc'])"
      ],
      "execution_count": null,
      "outputs": []
    },
    {
      "cell_type": "code",
      "metadata": {
        "id": "X2lQs3-3QSns",
        "colab_type": "code",
        "colab": {
          "base_uri": "https://localhost:8080/",
          "height": 1000
        },
        "outputId": "55227cc3-120c-46dd-f71f-9dce9e3f213d"
      },
      "source": [
        "# 학습하기\n",
        "model.fit(train_data,\n",
        "          train_label,\n",
        "          epochs=30,\n",
        "          batch_size=128,\n",
        "          validation_data=(test_data, test_label))"
      ],
      "execution_count": null,
      "outputs": [
        {
          "output_type": "stream",
          "text": [
            "Epoch 1/30\n",
            "352/352 [==============================] - 1s 4ms/step - loss: 0.4899 - acc: 0.8644 - val_loss: 0.2504 - val_acc: 0.9281\n",
            "Epoch 2/30\n",
            "352/352 [==============================] - 1s 3ms/step - loss: 0.2043 - acc: 0.9413 - val_loss: 0.1919 - val_acc: 0.9455\n",
            "Epoch 3/30\n",
            "352/352 [==============================] - 1s 3ms/step - loss: 0.1522 - acc: 0.9556 - val_loss: 0.1432 - val_acc: 0.9601\n",
            "Epoch 4/30\n",
            "352/352 [==============================] - 1s 3ms/step - loss: 0.1243 - acc: 0.9636 - val_loss: 0.1340 - val_acc: 0.9609\n",
            "Epoch 5/30\n",
            "352/352 [==============================] - 1s 3ms/step - loss: 0.1049 - acc: 0.9686 - val_loss: 0.1272 - val_acc: 0.9616\n",
            "Epoch 6/30\n",
            "352/352 [==============================] - 1s 3ms/step - loss: 0.0906 - acc: 0.9731 - val_loss: 0.1123 - val_acc: 0.9674\n",
            "Epoch 7/30\n",
            "352/352 [==============================] - 1s 3ms/step - loss: 0.0783 - acc: 0.9762 - val_loss: 0.1149 - val_acc: 0.9646\n",
            "Epoch 8/30\n",
            "352/352 [==============================] - 1s 3ms/step - loss: 0.0695 - acc: 0.9790 - val_loss: 0.1065 - val_acc: 0.9689\n",
            "Epoch 9/30\n",
            "352/352 [==============================] - 1s 3ms/step - loss: 0.0618 - acc: 0.9813 - val_loss: 0.1043 - val_acc: 0.9695\n",
            "Epoch 10/30\n",
            "352/352 [==============================] - 1s 3ms/step - loss: 0.0555 - acc: 0.9834 - val_loss: 0.0988 - val_acc: 0.9709\n",
            "Epoch 11/30\n",
            "352/352 [==============================] - 1s 3ms/step - loss: 0.0480 - acc: 0.9860 - val_loss: 0.1062 - val_acc: 0.9678\n",
            "Epoch 12/30\n",
            "352/352 [==============================] - 1s 3ms/step - loss: 0.0428 - acc: 0.9874 - val_loss: 0.1030 - val_acc: 0.9702\n",
            "Epoch 13/30\n",
            "352/352 [==============================] - 1s 3ms/step - loss: 0.0389 - acc: 0.9884 - val_loss: 0.1038 - val_acc: 0.9703\n",
            "Epoch 14/30\n",
            "352/352 [==============================] - 1s 3ms/step - loss: 0.0347 - acc: 0.9896 - val_loss: 0.1031 - val_acc: 0.9724\n",
            "Epoch 15/30\n",
            "352/352 [==============================] - 1s 3ms/step - loss: 0.0297 - acc: 0.9916 - val_loss: 0.1039 - val_acc: 0.9719\n",
            "Epoch 16/30\n",
            "352/352 [==============================] - 1s 3ms/step - loss: 0.0282 - acc: 0.9920 - val_loss: 0.1139 - val_acc: 0.9683\n",
            "Epoch 17/30\n",
            "352/352 [==============================] - 1s 3ms/step - loss: 0.0244 - acc: 0.9932 - val_loss: 0.1076 - val_acc: 0.9723\n",
            "Epoch 18/30\n",
            "352/352 [==============================] - 1s 3ms/step - loss: 0.0220 - acc: 0.9940 - val_loss: 0.1068 - val_acc: 0.9727\n",
            "Epoch 19/30\n",
            "352/352 [==============================] - 1s 3ms/step - loss: 0.0196 - acc: 0.9947 - val_loss: 0.1122 - val_acc: 0.9714\n",
            "Epoch 20/30\n",
            "352/352 [==============================] - 1s 3ms/step - loss: 0.0171 - acc: 0.9957 - val_loss: 0.1147 - val_acc: 0.9719\n",
            "Epoch 21/30\n",
            "352/352 [==============================] - 1s 3ms/step - loss: 0.0152 - acc: 0.9960 - val_loss: 0.1203 - val_acc: 0.9697\n",
            "Epoch 22/30\n",
            "352/352 [==============================] - 1s 3ms/step - loss: 0.0159 - acc: 0.9952 - val_loss: 0.1289 - val_acc: 0.9677\n",
            "Epoch 23/30\n",
            "352/352 [==============================] - 1s 3ms/step - loss: 0.0132 - acc: 0.9965 - val_loss: 0.1211 - val_acc: 0.9708\n",
            "Epoch 24/30\n",
            "352/352 [==============================] - 1s 3ms/step - loss: 0.0107 - acc: 0.9975 - val_loss: 0.1290 - val_acc: 0.9717\n",
            "Epoch 25/30\n",
            "352/352 [==============================] - 1s 3ms/step - loss: 0.0104 - acc: 0.9973 - val_loss: 0.1423 - val_acc: 0.9677\n",
            "Epoch 26/30\n",
            "352/352 [==============================] - 1s 3ms/step - loss: 0.0106 - acc: 0.9971 - val_loss: 0.1255 - val_acc: 0.9720\n",
            "Epoch 27/30\n",
            "352/352 [==============================] - 1s 3ms/step - loss: 0.0108 - acc: 0.9968 - val_loss: 0.1396 - val_acc: 0.9706\n",
            "Epoch 28/30\n",
            "352/352 [==============================] - 1s 3ms/step - loss: 0.0082 - acc: 0.9977 - val_loss: 0.1489 - val_acc: 0.9682\n",
            "Epoch 29/30\n",
            "352/352 [==============================] - 1s 3ms/step - loss: 0.0084 - acc: 0.9976 - val_loss: 0.1474 - val_acc: 0.9697\n",
            "Epoch 30/30\n",
            "352/352 [==============================] - 1s 3ms/step - loss: 0.0090 - acc: 0.9972 - val_loss: 0.1373 - val_acc: 0.9725\n"
          ],
          "name": "stdout"
        },
        {
          "output_type": "execute_result",
          "data": {
            "text/plain": [
              "<tensorflow.python.keras.callbacks.History at 0x7f407f94d5f8>"
            ]
          },
          "metadata": {
            "tags": []
          },
          "execution_count": 86
        }
      ]
    },
    {
      "cell_type": "code",
      "metadata": {
        "id": "uPyB0zT4Q6HN",
        "colab_type": "code",
        "colab": {
          "base_uri": "https://localhost:8080/",
          "height": 53
        },
        "outputId": "9fdc58c2-234a-4933-8758-d99b43a1c3b6"
      },
      "source": [
        "# 평가하기\n",
        "model.evaluate(mnist_test_data, mnist_test_label)"
      ],
      "execution_count": null,
      "outputs": [
        {
          "output_type": "stream",
          "text": [
            "313/313 [==============================] - 0s 945us/step - loss: 0.1366 - acc: 0.9723\n"
          ],
          "name": "stdout"
        },
        {
          "output_type": "execute_result",
          "data": {
            "text/plain": [
              "[0.13658705353736877, 0.9722999930381775]"
            ]
          },
          "metadata": {
            "tags": []
          },
          "execution_count": 87
        }
      ]
    },
    {
      "cell_type": "code",
      "metadata": {
        "id": "Ck6H-wgtRAkm",
        "colab_type": "code",
        "colab": {
          "base_uri": "https://localhost:8080/",
          "height": 143
        },
        "outputId": "d0283c64-baa6-465c-d7fe-43af397001af"
      },
      "source": [
        "# 테스트하기\n",
        "result = model.predict(mnist_test_data)\n",
        "result.round()\n",
        "\n",
        "from sklearn.metrics import accuracy_score\n",
        "score = accuracy_score(result.round(), mnist_test_label)\n",
        "print('점수 : ', score)\n",
        "\n",
        "final_result = model.predict(img_arr)\n",
        "print('final_result')\n",
        "print(final_result.round())"
      ],
      "execution_count": null,
      "outputs": [
        {
          "output_type": "stream",
          "text": [
            "점수 :  0.9715\n",
            "final_result\n",
            "[[0. 1. 0. 0. 0. 0. 0. 0. 0. 0.]\n",
            " [0. 0. 1. 0. 0. 0. 0. 0. 0. 0.]\n",
            " [0. 0. 0. 1. 0. 0. 0. 0. 0. 0.]\n",
            " [0. 0. 0. 0. 1. 0. 0. 0. 0. 0.]\n",
            " [0. 0. 0. 0. 0. 1. 0. 0. 0. 0.]]\n"
          ],
          "name": "stdout"
        }
      ]
    }
  ]
}