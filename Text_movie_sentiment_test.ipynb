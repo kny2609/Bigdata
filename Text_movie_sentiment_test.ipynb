{
  "nbformat": 4,
  "nbformat_minor": 0,
  "metadata": {
    "colab": {
      "name": "Text_movie_sentiment_test.ipynb",
      "provenance": [],
      "collapsed_sections": [],
      "authorship_tag": "ABX9TyO9i4UdO+gYr+9NxJCt24Z/",
      "include_colab_link": true
    },
    "kernelspec": {
      "name": "python3",
      "display_name": "Python 3"
    }
  },
  "cells": [
    {
      "cell_type": "markdown",
      "metadata": {
        "id": "view-in-github",
        "colab_type": "text"
      },
      "source": [
        "<a href=\"https://colab.research.google.com/github/kny2609/Bigdata/blob/master/Text_movie_sentiment_test.ipynb\" target=\"_parent\"><img src=\"https://colab.research.google.com/assets/colab-badge.svg\" alt=\"Open In Colab\"/></a>"
      ]
    },
    {
      "cell_type": "code",
      "metadata": {
        "id": "dKxxuvtRo-Z9",
        "colab_type": "code",
        "colab": {
          "base_uri": "https://localhost:8080/",
          "height": 127
        },
        "outputId": "e921391f-c227-4979-b15f-9429944fa278"
      },
      "source": [
        "# 구글 드라이브 연동\n",
        "from google.colab import drive\n",
        "drive.mount('/content/drive')"
      ],
      "execution_count": 1,
      "outputs": [
        {
          "output_type": "stream",
          "text": [
            "Go to this URL in a browser: https://accounts.google.com/o/oauth2/auth?client_id=947318989803-6bn6qk8qdgf4n4g3pfee6491hc0brc4i.apps.googleusercontent.com&redirect_uri=urn%3aietf%3awg%3aoauth%3a2.0%3aoob&scope=email%20https%3a%2f%2fwww.googleapis.com%2fauth%2fdocs.test%20https%3a%2f%2fwww.googleapis.com%2fauth%2fdrive%20https%3a%2f%2fwww.googleapis.com%2fauth%2fdrive.photos.readonly%20https%3a%2f%2fwww.googleapis.com%2fauth%2fpeopleapi.readonly&response_type=code\n",
            "\n",
            "Enter your authorization code:\n",
            "··········\n",
            "Mounted at /content/drive\n"
          ],
          "name": "stdout"
        }
      ]
    },
    {
      "cell_type": "code",
      "metadata": {
        "id": "ZvhxFUYmpJAP",
        "colab_type": "code",
        "colab": {}
      },
      "source": [
        "\"\"\"\n",
        "날짜 : 2020-09-08\n",
        "이름 : 김나연\n",
        "내용 : 학습된 영화리뷰 모델 테스트하기\n",
        "\"\"\"\n",
        "from keras.models import load_model\n",
        "from tensorflow.keras.preprocessing.text import Tokenizer\n",
        "from tensorflow.keras.preprocessing.sequence import pad_sequences"
      ],
      "execution_count": 10,
      "outputs": []
    },
    {
      "cell_type": "code",
      "metadata": {
        "id": "r1Qgd6hxpJIS",
        "colab_type": "code",
        "colab": {}
      },
      "source": [
        "# 파일 로드 함수 정의\n",
        "def load_data(file):\n",
        "  result = []\n",
        "  \n",
        "  with open(file, 'r', encoding='utf-8') as f:\n",
        "    lines = f.read().splitlines()\n",
        "\n",
        "    for line in lines:\n",
        "      data = line.split('\\t')\n",
        "      result.append(data)\n",
        "\n",
        "  result = result[1:] # header 정보 제외\n",
        "  return result"
      ],
      "execution_count": 3,
      "outputs": []
    },
    {
      "cell_type": "code",
      "metadata": {
        "id": "zl7U7TlApJQy",
        "colab_type": "code",
        "colab": {
          "base_uri": "https://localhost:8080/",
          "height": 35
        },
        "outputId": "80c683a9-7d73-4801-f90c-dac42b0e1854"
      },
      "source": [
        "# 데이터 파일 로드\n",
        "train_data = load_data('/content/drive/My Drive/Tensorflow_works/data/ratings_train.txt')\n",
        "train_data[0]"
      ],
      "execution_count": 4,
      "outputs": [
        {
          "output_type": "execute_result",
          "data": {
            "text/plain": [
              "['9976970', '아 더빙.. 진짜 짜증나네요 목소리', '0']"
            ]
          },
          "metadata": {
            "tags": []
          },
          "execution_count": 4
        }
      ]
    },
    {
      "cell_type": "code",
      "metadata": {
        "id": "N7u2Is_upvy4",
        "colab_type": "code",
        "colab": {}
      },
      "source": [
        "# 최대 5000개의 단어를 갖는 단어사전 생성\n",
        "train_x = []\n",
        "for i in range(len(train_data)):\n",
        "  train_x.append(train_data[i][1])\n",
        "\n",
        "tokenizer = Tokenizer(num_words=5000)\n",
        "tokenizer.fit_on_texts(train_x)"
      ],
      "execution_count": 5,
      "outputs": []
    },
    {
      "cell_type": "code",
      "metadata": {
        "id": "Dtcu2AnVqQYc",
        "colab_type": "code",
        "colab": {}
      },
      "source": [
        "# 테스트 데이터 생성 및 전처리\n",
        "test_data = ['시간 가는 줄 모르고 봤습니다.',\n",
        "             '시간 낭비 했어요...',\n",
        "             '돈 아까워요...',\n",
        "             '올해 최고의 영화 입니다.',\n",
        "             '초반에는 재밌었는데 중반으로 갈수록...',\n",
        "             '가족 영화로 추천합니다.',\n",
        "             '영화 보면서 잠만 잤습니다.',\n",
        "             '역시 믿고 보는 송강호!!!', \n",
        "             '와 이거 감독판으로 나왔으면 좋겠다.', \n",
        "             '스토리가 없어요. 정말이에요.']\n",
        "\n",
        "token_test_data = tokenizer.texts_to_sequences(test_data)\n",
        "token_test_data\n",
        "\n",
        "pad_test_data = pad_sequences(token_test_data, maxlen=100)\n",
        "pad_test_data"
      ],
      "execution_count": null,
      "outputs": []
    },
    {
      "cell_type": "code",
      "metadata": {
        "id": "YgGK6yNZrVe_",
        "colab_type": "code",
        "colab": {
          "base_uri": "https://localhost:8080/",
          "height": 35
        },
        "outputId": "ec89b38f-afb8-478b-cd84-0129038f7a3c"
      },
      "source": [
        "# 모델 로드\n",
        "model = load_model('/content/drive/My Drive/Tensorflow_works/model/review.model')\n",
        "model"
      ],
      "execution_count": 11,
      "outputs": [
        {
          "output_type": "execute_result",
          "data": {
            "text/plain": [
              "<tensorflow.python.keras.engine.sequential.Sequential at 0x7f26fcca5ef0>"
            ]
          },
          "metadata": {
            "tags": []
          },
          "execution_count": 11
        }
      ]
    },
    {
      "cell_type": "code",
      "metadata": {
        "id": "zjLe_yU1r-j9",
        "colab_type": "code",
        "colab": {
          "base_uri": "https://localhost:8080/",
          "height": 197
        },
        "outputId": "7073b794-cb50-4e83-ee35-6d0c56f2088b"
      },
      "source": [
        "# 모델 테스트\n",
        "result = model.predict(pad_test_data)\n",
        "result"
      ],
      "execution_count": 13,
      "outputs": [
        {
          "output_type": "execute_result",
          "data": {
            "text/plain": [
              "array([[9.7447854e-01],\n",
              "       [1.4838576e-04],\n",
              "       [3.8535506e-02],\n",
              "       [9.8831236e-01],\n",
              "       [4.2185155e-01],\n",
              "       [9.5332420e-01],\n",
              "       [5.9692550e-01],\n",
              "       [9.9803996e-01],\n",
              "       [9.8128080e-01],\n",
              "       [1.1123407e-01]], dtype=float32)"
            ]
          },
          "metadata": {
            "tags": []
          },
          "execution_count": 13
        }
      ]
    }
  ]
}