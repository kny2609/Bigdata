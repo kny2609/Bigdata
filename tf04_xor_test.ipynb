{
  "nbformat": 4,
  "nbformat_minor": 0,
  "metadata": {
    "colab": {
      "name": "tf04_xor_test.ipynb",
      "provenance": [],
      "collapsed_sections": [],
      "authorship_tag": "ABX9TyP0P+E6XYkxBJKHmc7o2ZVi",
      "include_colab_link": true
    },
    "kernelspec": {
      "name": "python3",
      "display_name": "Python 3"
    }
  },
  "cells": [
    {
      "cell_type": "markdown",
      "metadata": {
        "id": "view-in-github",
        "colab_type": "text"
      },
      "source": [
        "<a href=\"https://colab.research.google.com/github/kny2609/Bigdata/blob/master/tf04_xor_test.ipynb\" target=\"_parent\"><img src=\"https://colab.research.google.com/assets/colab-badge.svg\" alt=\"Open In Colab\"/></a>"
      ]
    },
    {
      "cell_type": "code",
      "metadata": {
        "id": "h9X8jNhFW4eE",
        "colab_type": "code",
        "colab": {}
      },
      "source": [
        "\"\"\"\n",
        "날짜 : 2020-08-18\n",
        "이름 : 김나연\n",
        "내용 : XOR 연산 실습하기\n",
        "\"\"\"\n",
        "\n",
        "import tensorflow as tf\n",
        "import numpy as np\n",
        "from tensorflow.keras.models import Sequential\n",
        "from tensorflow.keras.layers import Dense\n",
        "from tensorflow.keras.optimizers import Adam\n",
        "from tensorflow.keras.losses import mse"
      ],
      "execution_count": null,
      "outputs": []
    },
    {
      "cell_type": "code",
      "metadata": {
        "id": "X3YSTY31YnBm",
        "colab_type": "code",
        "colab": {}
      },
      "source": [
        "# 데이터 준비\n",
        "data = np.array([[0, 0], [0, 1], [1, 0], [1, 1]])\n",
        "label = np.array([[0], [1], [1], [0]])"
      ],
      "execution_count": null,
      "outputs": []
    },
    {
      "cell_type": "code",
      "metadata": {
        "id": "Rm9rcVgyY2xG",
        "colab_type": "code",
        "colab": {}
      },
      "source": [
        "# 모델 구성하기\n",
        "model = Sequential()\n",
        "model.add(Dense(units=100, input_shape=(2,), activation='sigmoid')) # 입력층\n",
        "model.add(Dense(units=1, activation='sigmoid')) # 출력층"
      ],
      "execution_count": null,
      "outputs": []
    },
    {
      "cell_type": "code",
      "metadata": {
        "id": "9Q8C8xIwZsJf",
        "colab_type": "code",
        "colab": {}
      },
      "source": [
        "# 모델 설정\n",
        "model.compile(optimizer='Adam', loss=mse, metrics=['acc'])"
      ],
      "execution_count": null,
      "outputs": []
    },
    {
      "cell_type": "code",
      "metadata": {
        "id": "Mg6vS8e8Z1oG",
        "colab_type": "code",
        "colab": {}
      },
      "source": [
        "# 학습하기\n",
        "model.fit(data, label, epochs=1000)"
      ],
      "execution_count": null,
      "outputs": []
    },
    {
      "cell_type": "code",
      "metadata": {
        "id": "egRuORKwZ6DV",
        "colab_type": "code",
        "colab": {
          "base_uri": "https://localhost:8080/",
          "height": 89
        },
        "outputId": "17742ce5-8dce-4364-d3e1-7e4109e05db7"
      },
      "source": [
        "# 검증하기 [0, 1, 1, 0]로 수렴해야한다\n",
        "result = model.predict(data)\n",
        "# result = model.evaluate(data) # 모델 평가\n",
        "result"
      ],
      "execution_count": null,
      "outputs": [
        {
          "output_type": "execute_result",
          "data": {
            "text/plain": [
              "array([[0.07211009],\n",
              "       [0.92862105],\n",
              "       [0.92819476],\n",
              "       [0.07023913]], dtype=float32)"
            ]
          },
          "metadata": {
            "tags": []
          },
          "execution_count": 11
        }
      ]
    }
  ]
}