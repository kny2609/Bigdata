{
  "nbformat": 4,
  "nbformat_minor": 0,
  "metadata": {
    "colab": {
      "name": "tf12_auto_encoder_test1.ipynb",
      "provenance": [],
      "collapsed_sections": [],
      "authorship_tag": "ABX9TyNQlT3iEzB9m6xxUdAtNwdB",
      "include_colab_link": true
    },
    "kernelspec": {
      "name": "python3",
      "display_name": "Python 3"
    },
    "accelerator": "TPU"
  },
  "cells": [
    {
      "cell_type": "markdown",
      "metadata": {
        "id": "view-in-github",
        "colab_type": "text"
      },
      "source": [
        "<a href=\"https://colab.research.google.com/github/kny2609/Bigdata/blob/master/tf12_auto_encoder_test1.ipynb\" target=\"_parent\"><img src=\"https://colab.research.google.com/assets/colab-badge.svg\" alt=\"Open In Colab\"/></a>"
      ]
    },
    {
      "cell_type": "code",
      "metadata": {
        "id": "uOxzmXrABm_L",
        "colab_type": "code",
        "colab": {
          "base_uri": "https://localhost:8080/",
          "height": 35
        },
        "outputId": "ac9e81ee-8fbe-4223-a88c-076d57b27a3d"
      },
      "source": [
        "\"\"\"\n",
        "날짜 : 2020-08-25\n",
        "이름 : 김나연\n",
        "내용 : 딥러닝 오토인코더(AutoEncoder) 개념 실습하기\n",
        "\"\"\"\n",
        "\n",
        "import numpy as np\n",
        "import tensorflow as tf\n",
        "import matplotlib.pyplot as plt\n",
        "from tensorflow.keras.layers import Input, Dense\n",
        "from tensorflow.keras.models import Model\n",
        "\n",
        "tf.__version__"
      ],
      "execution_count": null,
      "outputs": [
        {
          "output_type": "execute_result",
          "data": {
            "application/vnd.google.colaboratory.intrinsic+json": {
              "type": "string"
            },
            "text/plain": [
              "'2.3.0'"
            ]
          },
          "metadata": {
            "tags": []
          },
          "execution_count": 16
        }
      ]
    },
    {
      "cell_type": "code",
      "metadata": {
        "id": "Yc-cN34FDppK",
        "colab_type": "code",
        "colab": {
          "base_uri": "https://localhost:8080/",
          "height": 35
        },
        "outputId": "51a58c62-bd0c-4fb8-af75-b9c53ab9e7f8"
      },
      "source": [
        "# MNIST 데이터셋 로드\n",
        "(x_train, y_train), (x_test, y_test) = tf.keras.datasets.mnist.load_data()\n",
        "x_train.shape, y_train.shape"
      ],
      "execution_count": null,
      "outputs": [
        {
          "output_type": "execute_result",
          "data": {
            "text/plain": [
              "((60000, 28, 28), (60000,))"
            ]
          },
          "metadata": {
            "tags": []
          },
          "execution_count": 17
        }
      ]
    },
    {
      "cell_type": "code",
      "metadata": {
        "id": "L1HAm7doEGLI",
        "colab_type": "code",
        "colab": {}
      },
      "source": [
        "x_train[0]"
      ],
      "execution_count": null,
      "outputs": []
    },
    {
      "cell_type": "code",
      "metadata": {
        "id": "I0S87uZDE4n_",
        "colab_type": "code",
        "colab": {
          "base_uri": "https://localhost:8080/",
          "height": 35
        },
        "outputId": "5f39d534-aa3c-450a-b871-2db6e0c977ac"
      },
      "source": [
        "y_train[0]"
      ],
      "execution_count": null,
      "outputs": [
        {
          "output_type": "execute_result",
          "data": {
            "text/plain": [
              "5"
            ]
          },
          "metadata": {
            "tags": []
          },
          "execution_count": 9
        }
      ]
    },
    {
      "cell_type": "code",
      "metadata": {
        "id": "JN3uhWLlE7rz",
        "colab_type": "code",
        "colab": {
          "base_uri": "https://localhost:8080/",
          "height": 35
        },
        "outputId": "0cdf5557-638a-4e33-ab22-b68ce50536d7"
      },
      "source": [
        "# 데이터 전처리\n",
        "x_train = x_train.reshape(-1, 28 * 28) / 255.0\n",
        "x_test = x_test.reshape(-1, 28 * 28) / 255.0\n",
        "\n",
        "x_train.shape"
      ],
      "execution_count": null,
      "outputs": [
        {
          "output_type": "execute_result",
          "data": {
            "text/plain": [
              "(60000, 784)"
            ]
          },
          "metadata": {
            "tags": []
          },
          "execution_count": 18
        }
      ]
    },
    {
      "cell_type": "code",
      "metadata": {
        "id": "r56IjMzQFgns",
        "colab_type": "code",
        "colab": {
          "base_uri": "https://localhost:8080/",
          "height": 269
        },
        "outputId": "f16028c8-cb99-42d3-bfd1-4953c8b3da03"
      },
      "source": [
        "# 오토인코더 모델 구성\n",
        "inputs = Input(shape=(784,))\n",
        "\n",
        "hidden = Dense(32, activation='relu')(inputs)\n",
        "\n",
        "outputs = Dense(784, activation='sigmoid')(hidden)\n",
        "\n",
        "auto_encoder = Model(inputs, outputs)\n",
        "auto_encoder.summary()"
      ],
      "execution_count": null,
      "outputs": [
        {
          "output_type": "stream",
          "text": [
            "Model: \"functional_5\"\n",
            "_________________________________________________________________\n",
            "Layer (type)                 Output Shape              Param #   \n",
            "=================================================================\n",
            "input_4 (InputLayer)         [(None, 784)]             0         \n",
            "_________________________________________________________________\n",
            "dense_4 (Dense)              (None, 32)                25120     \n",
            "_________________________________________________________________\n",
            "dense_5 (Dense)              (None, 784)               25872     \n",
            "=================================================================\n",
            "Total params: 50,992\n",
            "Trainable params: 50,992\n",
            "Non-trainable params: 0\n",
            "_________________________________________________________________\n"
          ],
          "name": "stdout"
        }
      ]
    },
    {
      "cell_type": "code",
      "metadata": {
        "id": "klwWZtbYIbo3",
        "colab_type": "code",
        "colab": {
          "base_uri": "https://localhost:8080/",
          "height": 755
        },
        "outputId": "f737a29f-b86c-4767-906a-2884be312a47"
      },
      "source": [
        "# 모델 설정 / 학습하기\n",
        "auto_encoder.compile(optimizer='adam', loss='binary_crossentropy')\n",
        "auto_encoder.fit(x_train, x_train, epochs=20, batch_size=256)"
      ],
      "execution_count": null,
      "outputs": [
        {
          "output_type": "stream",
          "text": [
            "Epoch 1/20\n",
            "235/235 [==============================] - 2s 7ms/step - loss: 0.2752\n",
            "Epoch 2/20\n",
            "235/235 [==============================] - 2s 7ms/step - loss: 0.1692\n",
            "Epoch 3/20\n",
            "235/235 [==============================] - 2s 7ms/step - loss: 0.1419\n",
            "Epoch 4/20\n",
            "235/235 [==============================] - 2s 7ms/step - loss: 0.1269\n",
            "Epoch 5/20\n",
            "235/235 [==============================] - 2s 7ms/step - loss: 0.1166\n",
            "Epoch 6/20\n",
            "235/235 [==============================] - 2s 7ms/step - loss: 0.1094\n",
            "Epoch 7/20\n",
            "235/235 [==============================] - 2s 7ms/step - loss: 0.1042\n",
            "Epoch 8/20\n",
            "235/235 [==============================] - 2s 7ms/step - loss: 0.1006\n",
            "Epoch 9/20\n",
            "235/235 [==============================] - 2s 7ms/step - loss: 0.0982\n",
            "Epoch 10/20\n",
            "235/235 [==============================] - 2s 7ms/step - loss: 0.0967\n",
            "Epoch 11/20\n",
            "235/235 [==============================] - 2s 7ms/step - loss: 0.0956\n",
            "Epoch 12/20\n",
            "235/235 [==============================] - 2s 7ms/step - loss: 0.0950\n",
            "Epoch 13/20\n",
            "235/235 [==============================] - 2s 7ms/step - loss: 0.0945\n",
            "Epoch 14/20\n",
            "235/235 [==============================] - 2s 7ms/step - loss: 0.0941\n",
            "Epoch 15/20\n",
            "235/235 [==============================] - 2s 7ms/step - loss: 0.0939\n",
            "Epoch 16/20\n",
            "235/235 [==============================] - 2s 7ms/step - loss: 0.0937\n",
            "Epoch 17/20\n",
            "235/235 [==============================] - 2s 7ms/step - loss: 0.0936\n",
            "Epoch 18/20\n",
            "235/235 [==============================] - 2s 7ms/step - loss: 0.0935\n",
            "Epoch 19/20\n",
            "235/235 [==============================] - 2s 7ms/step - loss: 0.0934\n",
            "Epoch 20/20\n",
            "235/235 [==============================] - 2s 7ms/step - loss: 0.0933\n"
          ],
          "name": "stdout"
        },
        {
          "output_type": "execute_result",
          "data": {
            "text/plain": [
              "<tensorflow.python.keras.callbacks.History at 0x7f2077e405f8>"
            ]
          },
          "metadata": {
            "tags": []
          },
          "execution_count": 20
        }
      ]
    },
    {
      "cell_type": "code",
      "metadata": {
        "id": "OAgpo5_9Isa9",
        "colab_type": "code",
        "colab": {
          "base_uri": "https://localhost:8080/",
          "height": 251
        },
        "outputId": "d6b798f0-c2bb-41ce-c10a-8c0f16478afe"
      },
      "source": [
        "# 예측하기\n",
        "result = auto_encoder.predict(x_test)\n",
        "result"
      ],
      "execution_count": null,
      "outputs": [
        {
          "output_type": "execute_result",
          "data": {
            "text/plain": [
              "array([[1.12574082e-10, 2.13891460e-10, 2.59268162e-10, ...,\n",
              "        1.34872891e-10, 3.74693027e-10, 2.30489711e-10],\n",
              "       [1.29802445e-11, 2.92551712e-11, 4.60821173e-11, ...,\n",
              "        4.50993409e-12, 1.28988990e-11, 8.52533044e-11],\n",
              "       [5.49156084e-06, 1.46794616e-06, 2.96677263e-06, ...,\n",
              "        2.33571018e-06, 1.07875167e-06, 1.12611133e-06],\n",
              "       ...,\n",
              "       [3.70804766e-14, 1.05891807e-14, 8.11176264e-15, ...,\n",
              "        1.45521429e-14, 9.64251550e-15, 1.60456907e-14],\n",
              "       [4.79402846e-12, 1.60352742e-12, 1.85722076e-12, ...,\n",
              "        5.18050392e-13, 7.64544623e-13, 4.44575930e-12],\n",
              "       [1.59560535e-18, 3.90984329e-18, 7.77327523e-19, ...,\n",
              "        4.82626263e-18, 1.63118918e-19, 3.92982011e-18]], dtype=float32)"
            ]
          },
          "metadata": {
            "tags": []
          },
          "execution_count": 21
        }
      ]
    },
    {
      "cell_type": "code",
      "metadata": {
        "id": "B0S1kA3vIszF",
        "colab_type": "code",
        "colab": {
          "base_uri": "https://localhost:8080/",
          "height": 199
        },
        "outputId": "0d411761-2bed-4c20-feb9-736fca2a8de7"
      },
      "source": [
        "# 예측값 이미지 출력\n",
        "plt.figure(figsize=(20, 4))\n",
        "\n",
        "for i in range(10):\n",
        "  # original image\n",
        "  ax = plt.subplot(2, 10, i+1)\n",
        "  ax.set_title('original Image')\n",
        "  plt.imshow(x_test[i].reshape(28, 28))\n",
        "  plt.gray()\n",
        "  ax.get_xaxis().set_visible(False)\n",
        "  ax.get_yaxis().set_visible(False)\n",
        "\n",
        "  # result image\n",
        "  ax = plt.subplot(2, 10, i+11)\n",
        "  ax.set_title('result Image')\n",
        "  plt.imshow(result[i].reshape(28, 28))\n",
        "  plt.gray()\n",
        "  ax.get_xaxis().set_visible(False)\n",
        "  ax.get_yaxis().set_visible(False)"
      ],
      "execution_count": null,
      "outputs": [
        {
          "output_type": "display_data",
          "data": {
            "image/png": "[encoded data removed]",
            "text/plain": [
              "<Figure size 1440x288 with 20 Axes>"
            ]
          },
          "metadata": {
            "tags": [],
            "needs_background": "light"
          }
        }
      ]
    }
  ]
}